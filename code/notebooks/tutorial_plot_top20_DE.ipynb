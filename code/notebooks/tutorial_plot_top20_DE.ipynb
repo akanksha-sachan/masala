{
 "cells": [
  {
   "cell_type": "markdown",
   "metadata": {},
   "source": [
    "## This notebook describes how to visualize model performance on top 20 DE genes\n",
    "\n",
    "NOTE: Run `model_tutorial.ipynb` first since this requires a trained model to be present in `gears_seed1_norman`"
   ]
  },
  {
   "cell_type": "code",
   "execution_count": 1,
   "metadata": {},
   "outputs": [],
   "source": [
    "import sys\n",
    "sys.path.append('../')\n",
    "\n",
    "from gears import PertData, GEARS"
   ]
  },
  {
   "cell_type": "code",
   "execution_count": 2,
   "metadata": {},
   "outputs": [
    {
     "name": "stderr",
     "output_type": "stream",
     "text": [
      "Found local copy...\n",
      "Found local copy...\n",
      "Found local copy...\n",
      "These perturbations are not in the GO graph and their perturbation can thus not be predicted\n",
      "['C7orf26+ctrl' 'C14orf178+ctrl' 'RPS10-NUDT3+ctrl' 'SEM1+ctrl' 'FAU+ctrl']\n",
      "Local copy of pyg dataset is detected. Loading...\n",
      "Done!\n",
      "Local copy of split is detected. Loading...\n",
      "Simulation split test composition:\n",
      "combo_seen0:0\n",
      "combo_seen1:0\n",
      "combo_seen2:0\n",
      "unseen_single:272\n",
      "Done!\n",
      "Creating dataloaders....\n",
      "Done!\n"
     ]
    }
   ],
   "source": [
    "pert_data = PertData('./data')\n",
    "pert_data.load(data_name = 'replogle_k562_essential')\n",
    "pert_data.prepare_split(split = 'simulation', seed = 1)\n",
    "pert_data.get_dataloader(batch_size = 32, test_batch_size = 128)"
   ]
  },
  {
   "cell_type": "code",
   "execution_count": 3,
   "metadata": {},
   "outputs": [],
   "source": [
    "gears_model = GEARS(pert_data, device = 'cuda')"
   ]
  },
  {
   "cell_type": "code",
   "execution_count": 4,
   "metadata": {},
   "outputs": [],
   "source": [
    "gears_model.load_pretrained('test_model')"
   ]
  },
  {
   "cell_type": "code",
   "execution_count": 5,
   "metadata": {},
   "outputs": [
    {
     "data": {
      "text/plain": [
       "'K562_AAMP+ctrl_1+1'"
      ]
     },
     "execution_count": 5,
     "metadata": {},
     "output_type": "execute_result"
    }
   ],
   "source": [
    "testkey = list(pert_data.adata.uns['top_non_dropout_de_20'].keys())[0]\n",
    "testkey"
   ]
  },
  {
   "cell_type": "code",
   "execution_count": 8,
   "metadata": {},
   "outputs": [
    {
     "ename": "KeyError",
     "evalue": "'ZZEF1'",
     "output_type": "error",
     "traceback": [
      "\u001b[0;31m---------------------------------------------------------------------------\u001b[0m",
      "\u001b[0;31mKeyError\u001b[0m                                  Traceback (most recent call last)",
      "Cell \u001b[0;32mIn[8], line 1\u001b[0m\n\u001b[0;32m----> 1\u001b[0m \u001b[43mgears_model\u001b[49m\u001b[38;5;241;43m.\u001b[39;49m\u001b[43mplot_perturbation\u001b[49m\u001b[43m(\u001b[49m\u001b[38;5;124;43m'\u001b[39;49m\u001b[38;5;124;43mZZEF1\u001b[39;49m\u001b[38;5;124;43m'\u001b[39;49m\u001b[43m)\u001b[49m\n",
      "File \u001b[0;32m~/pgmproject/GEARS/gears/gears.py:441\u001b[0m, in \u001b[0;36mGEARS.plot_perturbation\u001b[0;34m(self, query, save_file)\u001b[0m\n\u001b[1;32m    437\u001b[0m cond2name \u001b[38;5;241m=\u001b[39m \u001b[38;5;28mdict\u001b[39m(adata\u001b[38;5;241m.\u001b[39mobs[[\u001b[38;5;124m'\u001b[39m\u001b[38;5;124mcondition\u001b[39m\u001b[38;5;124m'\u001b[39m, \u001b[38;5;124m'\u001b[39m\u001b[38;5;124mcondition_name\u001b[39m\u001b[38;5;124m'\u001b[39m]]\u001b[38;5;241m.\u001b[39mvalues)\n\u001b[1;32m    438\u001b[0m gene_raw2id \u001b[38;5;241m=\u001b[39m \u001b[38;5;28mdict\u001b[39m(\u001b[38;5;28mzip\u001b[39m(adata\u001b[38;5;241m.\u001b[39mvar\u001b[38;5;241m.\u001b[39mindex\u001b[38;5;241m.\u001b[39mvalues, adata\u001b[38;5;241m.\u001b[39mvar\u001b[38;5;241m.\u001b[39mgene_name\u001b[38;5;241m.\u001b[39mvalues))\n\u001b[1;32m    440\u001b[0m de_idx \u001b[38;5;241m=\u001b[39m [gene2idx[gene_raw2id[i]] \u001b[38;5;28;01mfor\u001b[39;00m i \u001b[38;5;129;01min\u001b[39;00m\n\u001b[0;32m--> 441\u001b[0m           adata\u001b[38;5;241m.\u001b[39muns[\u001b[38;5;124m'\u001b[39m\u001b[38;5;124mtop_non_dropout_de_20\u001b[39m\u001b[38;5;124m'\u001b[39m][\u001b[43mcond2name\u001b[49m\u001b[43m[\u001b[49m\u001b[43mquery\u001b[49m\u001b[43m]\u001b[49m]]\n\u001b[1;32m    442\u001b[0m genes \u001b[38;5;241m=\u001b[39m [gene_raw2id[i] \u001b[38;5;28;01mfor\u001b[39;00m i \u001b[38;5;129;01min\u001b[39;00m\n\u001b[1;32m    443\u001b[0m          adata\u001b[38;5;241m.\u001b[39muns[\u001b[38;5;124m'\u001b[39m\u001b[38;5;124mtop_non_dropout_de_20\u001b[39m\u001b[38;5;124m'\u001b[39m][cond2name[query]]]\n\u001b[1;32m    444\u001b[0m truth \u001b[38;5;241m=\u001b[39m adata[adata\u001b[38;5;241m.\u001b[39mobs\u001b[38;5;241m.\u001b[39mcondition \u001b[38;5;241m==\u001b[39m query]\u001b[38;5;241m.\u001b[39mX\u001b[38;5;241m.\u001b[39mtoarray()[:, de_idx]\n",
      "\u001b[0;31mKeyError\u001b[0m: 'ZZEF1'"
     ]
    }
   ],
   "source": [
    "gears_model.plot_perturbation('ZZEF1')#('FOSB+CEBPB')"
   ]
  },
  {
   "cell_type": "code",
   "execution_count": null,
   "metadata": {},
   "outputs": [],
   "source": []
  }
 ],
 "metadata": {
  "kernelspec": {
   "display_name": "Python (gears-env)",
   "language": "python",
   "name": "gears-env"
  },
  "language_info": {
   "codemirror_mode": {
    "name": "ipython",
    "version": 3
   },
   "file_extension": ".py",
   "mimetype": "text/x-python",
   "name": "python",
   "nbconvert_exporter": "python",
   "pygments_lexer": "ipython3",
   "version": "3.10.13"
  }
 },
 "nbformat": 4,
 "nbformat_minor": 5
}
